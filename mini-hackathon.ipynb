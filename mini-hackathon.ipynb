{
 "cells": [
  {
   "cell_type": "code",
   "execution_count": 15,
   "metadata": {},
   "outputs": [],
   "source": [
    "import pandas as pd\n",
    "import numpy as np\n",
    "\n",
    "train_data_no_build_time = pd.read_csv('test_june_july.csv')"
   ]
  },
  {
   "cell_type": "code",
   "execution_count": 16,
   "metadata": {},
   "outputs": [],
   "source": [
    "build_times = pd.read_csv('target_(build_duration)_june_july.csv')"
   ]
  },
  {
   "cell_type": "code",
   "execution_count": 3,
   "metadata": {},
   "outputs": [
    {
     "data": {
      "text/html": [
       "<div>\n",
       "<table border=\"1\" class=\"dataframe\">\n",
       "  <thead>\n",
       "    <tr style=\"text-align: right;\">\n",
       "      <th></th>\n",
       "      <th>Unnamed: 0</th>\n",
       "      <th>date_mday</th>\n",
       "      <th>date_month</th>\n",
       "      <th>build_scope</th>\n",
       "      <th>id</th>\n",
       "      <th>viewname</th>\n",
       "      <th>modified_datetime</th>\n",
       "      <th>date_wday</th>\n",
       "      <th>date_hour</th>\n",
       "      <th>in_queue</th>\n",
       "      <th>...</th>\n",
       "      <th>path_second_dir_index</th>\n",
       "      <th>path_third_dir_index</th>\n",
       "      <th>path_fourth_dir_index</th>\n",
       "      <th>path_fifth_dir_index</th>\n",
       "      <th>path_sixth_dir_index</th>\n",
       "      <th>building_block_count</th>\n",
       "      <th>component_count</th>\n",
       "      <th>build_exit_code</th>\n",
       "      <th>building_block</th>\n",
       "      <th>component</th>\n",
       "    </tr>\n",
       "  </thead>\n",
       "  <tbody>\n",
       "    <tr>\n",
       "      <th>0</th>\n",
       "      <td>1</td>\n",
       "      <td>1</td>\n",
       "      <td>june</td>\n",
       "      <td>e7048511692cff4f62cfe90835fc1abd86b07e99339c38...</td>\n",
       "      <td>28394922</td>\n",
       "      <td>63c6cfa574e13b8dccd06fb8c3995234c8f31eb4821963...</td>\n",
       "      <td>2018-06-01 00:01:44.0</td>\n",
       "      <td>friday</td>\n",
       "      <td>0</td>\n",
       "      <td>0</td>\n",
       "      <td>...</td>\n",
       "      <td>NaN</td>\n",
       "      <td>NaN</td>\n",
       "      <td>NaN</td>\n",
       "      <td>NaN</td>\n",
       "      <td>NaN</td>\n",
       "      <td>1</td>\n",
       "      <td>2</td>\n",
       "      <td>1</td>\n",
       "      <td>e7048511692cff4f62cfe90835fc1abd86b07e99339c38...</td>\n",
       "      <td>91f026c996feb33556b5d418d17e015945f305c96666b6...</td>\n",
       "    </tr>\n",
       "    <tr>\n",
       "      <th>1</th>\n",
       "      <td>2</td>\n",
       "      <td>1</td>\n",
       "      <td>june</td>\n",
       "      <td>f2e0e91589143e8427328edab05e6ab9aede832ddac8d5...</td>\n",
       "      <td>28394923</td>\n",
       "      <td>22de7569f896a42cb2f2836f3ba05f689a4d867394ae2c...</td>\n",
       "      <td>2018-06-01 00:01:49.0</td>\n",
       "      <td>friday</td>\n",
       "      <td>0</td>\n",
       "      <td>0</td>\n",
       "      <td>...</td>\n",
       "      <td>16.0</td>\n",
       "      <td>19.0</td>\n",
       "      <td>NaN</td>\n",
       "      <td>NaN</td>\n",
       "      <td>NaN</td>\n",
       "      <td>1</td>\n",
       "      <td>3</td>\n",
       "      <td>0</td>\n",
       "      <td>f2e0e91589143e8427328edab05e6ab9aede832ddac8d5...</td>\n",
       "      <td>a545aebf29aa6fc81eb8d8906de5a808bc17f10bc55a25...</td>\n",
       "    </tr>\n",
       "    <tr>\n",
       "      <th>2</th>\n",
       "      <td>3</td>\n",
       "      <td>1</td>\n",
       "      <td>june</td>\n",
       "      <td>3e1a610ac6fd15c8f3d6eaad07b3eabd8371eb14c8b9ff...</td>\n",
       "      <td>28394926</td>\n",
       "      <td>4a195cf70d29ad8066cae3457b931198caf2581992971b...</td>\n",
       "      <td>2018-06-01 00:05:33.0</td>\n",
       "      <td>friday</td>\n",
       "      <td>0</td>\n",
       "      <td>0</td>\n",
       "      <td>...</td>\n",
       "      <td>77.0</td>\n",
       "      <td>73.0</td>\n",
       "      <td>NaN</td>\n",
       "      <td>NaN</td>\n",
       "      <td>NaN</td>\n",
       "      <td>7</td>\n",
       "      <td>8</td>\n",
       "      <td>0</td>\n",
       "      <td>3e1a610ac6fd15c8f3d6eaad07b3eabd8371eb14c8b9ff...</td>\n",
       "      <td>0049aa51a630b7912728071542a064ffa7d385e0d14429...</td>\n",
       "    </tr>\n",
       "    <tr>\n",
       "      <th>3</th>\n",
       "      <td>4</td>\n",
       "      <td>1</td>\n",
       "      <td>june</td>\n",
       "      <td>f2e0e91589143e8427328edab05e6ab9aede832ddac8d5...</td>\n",
       "      <td>28394928</td>\n",
       "      <td>22de7569f896a42cb2f2836f3ba05f689a4d867394ae2c...</td>\n",
       "      <td>2018-06-01 00:06:15.0</td>\n",
       "      <td>friday</td>\n",
       "      <td>0</td>\n",
       "      <td>0</td>\n",
       "      <td>...</td>\n",
       "      <td>16.0</td>\n",
       "      <td>19.0</td>\n",
       "      <td>NaN</td>\n",
       "      <td>NaN</td>\n",
       "      <td>NaN</td>\n",
       "      <td>1</td>\n",
       "      <td>3</td>\n",
       "      <td>1</td>\n",
       "      <td>f2e0e91589143e8427328edab05e6ab9aede832ddac8d5...</td>\n",
       "      <td>a545aebf29aa6fc81eb8d8906de5a808bc17f10bc55a25...</td>\n",
       "    </tr>\n",
       "    <tr>\n",
       "      <th>4</th>\n",
       "      <td>5</td>\n",
       "      <td>1</td>\n",
       "      <td>june</td>\n",
       "      <td>6a0ab58a939779971144a9e3b015de5333ac6af857b46b...</td>\n",
       "      <td>28394932</td>\n",
       "      <td>bbf5b1e5c34f9dcebc6bf81aac3a39b8880011542b4170...</td>\n",
       "      <td>2018-06-01 00:07:04.0</td>\n",
       "      <td>friday</td>\n",
       "      <td>0</td>\n",
       "      <td>0</td>\n",
       "      <td>...</td>\n",
       "      <td>19.0</td>\n",
       "      <td>11.0</td>\n",
       "      <td>2.0</td>\n",
       "      <td>3.0</td>\n",
       "      <td>3.0</td>\n",
       "      <td>1</td>\n",
       "      <td>1</td>\n",
       "      <td>0</td>\n",
       "      <td>6a0ab58a939779971144a9e3b015de5333ac6af857b46b...</td>\n",
       "      <td>c8f48a68649d1cae147fb8afd54801e3e82622465c98ff...</td>\n",
       "    </tr>\n",
       "  </tbody>\n",
       "</table>\n",
       "<p>5 rows × 26 columns</p>\n",
       "</div>"
      ],
      "text/plain": [
       "   Unnamed: 0  date_mday date_month  \\\n",
       "0           1          1       june   \n",
       "1           2          1       june   \n",
       "2           3          1       june   \n",
       "3           4          1       june   \n",
       "4           5          1       june   \n",
       "\n",
       "                                         build_scope        id  \\\n",
       "0  e7048511692cff4f62cfe90835fc1abd86b07e99339c38...  28394922   \n",
       "1  f2e0e91589143e8427328edab05e6ab9aede832ddac8d5...  28394923   \n",
       "2  3e1a610ac6fd15c8f3d6eaad07b3eabd8371eb14c8b9ff...  28394926   \n",
       "3  f2e0e91589143e8427328edab05e6ab9aede832ddac8d5...  28394928   \n",
       "4  6a0ab58a939779971144a9e3b015de5333ac6af857b46b...  28394932   \n",
       "\n",
       "                                            viewname      modified_datetime  \\\n",
       "0  63c6cfa574e13b8dccd06fb8c3995234c8f31eb4821963...  2018-06-01 00:01:44.0   \n",
       "1  22de7569f896a42cb2f2836f3ba05f689a4d867394ae2c...  2018-06-01 00:01:49.0   \n",
       "2  4a195cf70d29ad8066cae3457b931198caf2581992971b...  2018-06-01 00:05:33.0   \n",
       "3  22de7569f896a42cb2f2836f3ba05f689a4d867394ae2c...  2018-06-01 00:06:15.0   \n",
       "4  bbf5b1e5c34f9dcebc6bf81aac3a39b8880011542b4170...  2018-06-01 00:07:04.0   \n",
       "\n",
       "  date_wday  date_hour  in_queue  \\\n",
       "0    friday          0         0   \n",
       "1    friday          0         0   \n",
       "2    friday          0         0   \n",
       "3    friday          0         0   \n",
       "4    friday          0         0   \n",
       "\n",
       "                         ...                          path_second_dir_index  \\\n",
       "0                        ...                                            NaN   \n",
       "1                        ...                                           16.0   \n",
       "2                        ...                                           77.0   \n",
       "3                        ...                                           16.0   \n",
       "4                        ...                                           19.0   \n",
       "\n",
       "   path_third_dir_index  path_fourth_dir_index  path_fifth_dir_index  \\\n",
       "0                   NaN                    NaN                   NaN   \n",
       "1                  19.0                    NaN                   NaN   \n",
       "2                  73.0                    NaN                   NaN   \n",
       "3                  19.0                    NaN                   NaN   \n",
       "4                  11.0                    2.0                   3.0   \n",
       "\n",
       "  path_sixth_dir_index  building_block_count  component_count  \\\n",
       "0                  NaN                     1                2   \n",
       "1                  NaN                     1                3   \n",
       "2                  NaN                     7                8   \n",
       "3                  NaN                     1                3   \n",
       "4                  3.0                     1                1   \n",
       "\n",
       "   build_exit_code                                     building_block  \\\n",
       "0                1  e7048511692cff4f62cfe90835fc1abd86b07e99339c38...   \n",
       "1                0  f2e0e91589143e8427328edab05e6ab9aede832ddac8d5...   \n",
       "2                0  3e1a610ac6fd15c8f3d6eaad07b3eabd8371eb14c8b9ff...   \n",
       "3                1  f2e0e91589143e8427328edab05e6ab9aede832ddac8d5...   \n",
       "4                0  6a0ab58a939779971144a9e3b015de5333ac6af857b46b...   \n",
       "\n",
       "                                           component  \n",
       "0  91f026c996feb33556b5d418d17e015945f305c96666b6...  \n",
       "1  a545aebf29aa6fc81eb8d8906de5a808bc17f10bc55a25...  \n",
       "2  0049aa51a630b7912728071542a064ffa7d385e0d14429...  \n",
       "3  a545aebf29aa6fc81eb8d8906de5a808bc17f10bc55a25...  \n",
       "4  c8f48a68649d1cae147fb8afd54801e3e82622465c98ff...  \n",
       "\n",
       "[5 rows x 26 columns]"
      ]
     },
     "execution_count": 3,
     "metadata": {},
     "output_type": "execute_result"
    }
   ],
   "source": [
    "train_data_no_build_time.head()"
   ]
  },
  {
   "cell_type": "code",
   "execution_count": 41,
   "metadata": {},
   "outputs": [],
   "source": [
    "X = train_data_no_build_time\n",
    "Y = build_times.build_duration"
   ]
  },
  {
   "cell_type": "code",
   "execution_count": 84,
   "metadata": {},
   "outputs": [],
   "source": [
    "import numpy as np\n",
    "Y = np.log(build_times.build_duration.as_matrix() + .1)"
   ]
  },
  {
   "cell_type": "code",
   "execution_count": 85,
   "metadata": {},
   "outputs": [
    {
     "name": "stdout",
     "output_type": "stream",
     "text": [
      "203510\n"
     ]
    },
    {
     "data": {
      "text/plain": [
       "Unnamed: 0                 int64\n",
       "date_mday                  int64\n",
       "date_month                object\n",
       "build_scope               object\n",
       "id                         int64\n",
       "viewname                  object\n",
       "modified_datetime         object\n",
       "date_wday                 object\n",
       "date_hour                  int64\n",
       "in_queue                   int64\n",
       "user_index                 int64\n",
       "view_user_build_count      int64\n",
       "project_index              int64\n",
       "department_index           int64\n",
       "path                      object\n",
       "path_first_dir_index       int64\n",
       "path_second_dir_index    float64\n",
       "path_third_dir_index     float64\n",
       "path_fourth_dir_index    float64\n",
       "path_fifth_dir_index     float64\n",
       "path_sixth_dir_index     float64\n",
       "building_block_count       int64\n",
       "component_count            int64\n",
       "build_exit_code            int64\n",
       "building_block            object\n",
       "component                 object\n",
       "dtype: object"
      ]
     },
     "execution_count": 85,
     "metadata": {},
     "output_type": "execute_result"
    }
   ],
   "source": [
    "X.columns\n",
    "print(len(Y))\n",
    "\n",
    "X.dtypes"
   ]
  },
  {
   "cell_type": "code",
   "execution_count": 86,
   "metadata": {},
   "outputs": [
    {
     "data": {
      "text/html": [
       "<div>\n",
       "<table border=\"1\" class=\"dataframe\">\n",
       "  <thead>\n",
       "    <tr style=\"text-align: right;\">\n",
       "      <th></th>\n",
       "      <th>Unnamed: 0</th>\n",
       "      <th>date_mday</th>\n",
       "      <th>id</th>\n",
       "      <th>date_hour</th>\n",
       "      <th>in_queue</th>\n",
       "      <th>user_index</th>\n",
       "      <th>view_user_build_count</th>\n",
       "      <th>project_index</th>\n",
       "      <th>department_index</th>\n",
       "      <th>path_first_dir_index</th>\n",
       "      <th>path_second_dir_index</th>\n",
       "      <th>path_third_dir_index</th>\n",
       "      <th>path_fourth_dir_index</th>\n",
       "      <th>path_fifth_dir_index</th>\n",
       "      <th>path_sixth_dir_index</th>\n",
       "      <th>building_block_count</th>\n",
       "      <th>component_count</th>\n",
       "      <th>build_exit_code</th>\n",
       "    </tr>\n",
       "  </thead>\n",
       "  <tbody>\n",
       "    <tr>\n",
       "      <th>0</th>\n",
       "      <td>1</td>\n",
       "      <td>1</td>\n",
       "      <td>28394922</td>\n",
       "      <td>0</td>\n",
       "      <td>0</td>\n",
       "      <td>159</td>\n",
       "      <td>90</td>\n",
       "      <td>235</td>\n",
       "      <td>3</td>\n",
       "      <td>1</td>\n",
       "      <td>NaN</td>\n",
       "      <td>NaN</td>\n",
       "      <td>NaN</td>\n",
       "      <td>NaN</td>\n",
       "      <td>NaN</td>\n",
       "      <td>1</td>\n",
       "      <td>2</td>\n",
       "      <td>1</td>\n",
       "    </tr>\n",
       "    <tr>\n",
       "      <th>1</th>\n",
       "      <td>2</td>\n",
       "      <td>1</td>\n",
       "      <td>28394923</td>\n",
       "      <td>0</td>\n",
       "      <td>0</td>\n",
       "      <td>128</td>\n",
       "      <td>45</td>\n",
       "      <td>25</td>\n",
       "      <td>20</td>\n",
       "      <td>18</td>\n",
       "      <td>16.0</td>\n",
       "      <td>19.0</td>\n",
       "      <td>NaN</td>\n",
       "      <td>NaN</td>\n",
       "      <td>NaN</td>\n",
       "      <td>1</td>\n",
       "      <td>3</td>\n",
       "      <td>0</td>\n",
       "    </tr>\n",
       "    <tr>\n",
       "      <th>2</th>\n",
       "      <td>3</td>\n",
       "      <td>1</td>\n",
       "      <td>28394926</td>\n",
       "      <td>0</td>\n",
       "      <td>0</td>\n",
       "      <td>210</td>\n",
       "      <td>101</td>\n",
       "      <td>108</td>\n",
       "      <td>1</td>\n",
       "      <td>75</td>\n",
       "      <td>77.0</td>\n",
       "      <td>73.0</td>\n",
       "      <td>NaN</td>\n",
       "      <td>NaN</td>\n",
       "      <td>NaN</td>\n",
       "      <td>7</td>\n",
       "      <td>8</td>\n",
       "      <td>0</td>\n",
       "    </tr>\n",
       "    <tr>\n",
       "      <th>3</th>\n",
       "      <td>4</td>\n",
       "      <td>1</td>\n",
       "      <td>28394928</td>\n",
       "      <td>0</td>\n",
       "      <td>0</td>\n",
       "      <td>128</td>\n",
       "      <td>46</td>\n",
       "      <td>25</td>\n",
       "      <td>20</td>\n",
       "      <td>18</td>\n",
       "      <td>16.0</td>\n",
       "      <td>19.0</td>\n",
       "      <td>NaN</td>\n",
       "      <td>NaN</td>\n",
       "      <td>NaN</td>\n",
       "      <td>1</td>\n",
       "      <td>3</td>\n",
       "      <td>1</td>\n",
       "    </tr>\n",
       "    <tr>\n",
       "      <th>4</th>\n",
       "      <td>5</td>\n",
       "      <td>1</td>\n",
       "      <td>28394932</td>\n",
       "      <td>0</td>\n",
       "      <td>0</td>\n",
       "      <td>16</td>\n",
       "      <td>249</td>\n",
       "      <td>15</td>\n",
       "      <td>33</td>\n",
       "      <td>21</td>\n",
       "      <td>19.0</td>\n",
       "      <td>11.0</td>\n",
       "      <td>2.0</td>\n",
       "      <td>3.0</td>\n",
       "      <td>3.0</td>\n",
       "      <td>1</td>\n",
       "      <td>1</td>\n",
       "      <td>0</td>\n",
       "    </tr>\n",
       "  </tbody>\n",
       "</table>\n",
       "</div>"
      ],
      "text/plain": [
       "   Unnamed: 0  date_mday        id  date_hour  in_queue  user_index  \\\n",
       "0           1          1  28394922          0         0         159   \n",
       "1           2          1  28394923          0         0         128   \n",
       "2           3          1  28394926          0         0         210   \n",
       "3           4          1  28394928          0         0         128   \n",
       "4           5          1  28394932          0         0          16   \n",
       "\n",
       "   view_user_build_count  project_index  department_index  \\\n",
       "0                     90            235                 3   \n",
       "1                     45             25                20   \n",
       "2                    101            108                 1   \n",
       "3                     46             25                20   \n",
       "4                    249             15                33   \n",
       "\n",
       "   path_first_dir_index  path_second_dir_index  path_third_dir_index  \\\n",
       "0                     1                    NaN                   NaN   \n",
       "1                    18                   16.0                  19.0   \n",
       "2                    75                   77.0                  73.0   \n",
       "3                    18                   16.0                  19.0   \n",
       "4                    21                   19.0                  11.0   \n",
       "\n",
       "   path_fourth_dir_index  path_fifth_dir_index  path_sixth_dir_index  \\\n",
       "0                    NaN                   NaN                   NaN   \n",
       "1                    NaN                   NaN                   NaN   \n",
       "2                    NaN                   NaN                   NaN   \n",
       "3                    NaN                   NaN                   NaN   \n",
       "4                    2.0                   3.0                   3.0   \n",
       "\n",
       "   building_block_count  component_count  build_exit_code  \n",
       "0                     1                2                1  \n",
       "1                     1                3                0  \n",
       "2                     7                8                0  \n",
       "3                     1                3                1  \n",
       "4                     1                1                0  "
      ]
     },
     "execution_count": 86,
     "metadata": {},
     "output_type": "execute_result"
    }
   ],
   "source": [
    "from sklearn.preprocessing import Imputer\n",
    "\n",
    "numeric_values = X.select_dtypes(exclude=['object'])\n",
    "numeric_values.head()\n"
   ]
  },
  {
   "cell_type": "code",
   "execution_count": 87,
   "metadata": {},
   "outputs": [
    {
     "data": {
      "text/html": [
       "<div>\n",
       "<table border=\"1\" class=\"dataframe\">\n",
       "  <thead>\n",
       "    <tr style=\"text-align: right;\">\n",
       "      <th></th>\n",
       "      <th>Unnamed: 0</th>\n",
       "      <th>date_mday</th>\n",
       "      <th>id</th>\n",
       "      <th>date_hour</th>\n",
       "      <th>in_queue</th>\n",
       "      <th>user_index</th>\n",
       "      <th>view_user_build_count</th>\n",
       "      <th>project_index</th>\n",
       "      <th>department_index</th>\n",
       "      <th>path_first_dir_index</th>\n",
       "      <th>path_second_dir_index</th>\n",
       "      <th>path_third_dir_index</th>\n",
       "      <th>path_fourth_dir_index</th>\n",
       "      <th>path_fifth_dir_index</th>\n",
       "      <th>path_sixth_dir_index</th>\n",
       "      <th>building_block_count</th>\n",
       "      <th>component_count</th>\n",
       "      <th>build_exit_code</th>\n",
       "    </tr>\n",
       "  </thead>\n",
       "  <tbody>\n",
       "    <tr>\n",
       "      <th>0</th>\n",
       "      <td>1.0</td>\n",
       "      <td>1.0</td>\n",
       "      <td>28394922.0</td>\n",
       "      <td>0.0</td>\n",
       "      <td>0.0</td>\n",
       "      <td>159.0</td>\n",
       "      <td>90.0</td>\n",
       "      <td>235.0</td>\n",
       "      <td>3.0</td>\n",
       "      <td>1.0</td>\n",
       "      <td>47.100991</td>\n",
       "      <td>89.889714</td>\n",
       "      <td>4.518165</td>\n",
       "      <td>2.19538</td>\n",
       "      <td>2.752714</td>\n",
       "      <td>1.0</td>\n",
       "      <td>2.0</td>\n",
       "      <td>1.0</td>\n",
       "    </tr>\n",
       "    <tr>\n",
       "      <th>1</th>\n",
       "      <td>2.0</td>\n",
       "      <td>1.0</td>\n",
       "      <td>28394923.0</td>\n",
       "      <td>0.0</td>\n",
       "      <td>0.0</td>\n",
       "      <td>128.0</td>\n",
       "      <td>45.0</td>\n",
       "      <td>25.0</td>\n",
       "      <td>20.0</td>\n",
       "      <td>18.0</td>\n",
       "      <td>16.000000</td>\n",
       "      <td>19.000000</td>\n",
       "      <td>4.518165</td>\n",
       "      <td>2.19538</td>\n",
       "      <td>2.752714</td>\n",
       "      <td>1.0</td>\n",
       "      <td>3.0</td>\n",
       "      <td>0.0</td>\n",
       "    </tr>\n",
       "    <tr>\n",
       "      <th>2</th>\n",
       "      <td>3.0</td>\n",
       "      <td>1.0</td>\n",
       "      <td>28394926.0</td>\n",
       "      <td>0.0</td>\n",
       "      <td>0.0</td>\n",
       "      <td>210.0</td>\n",
       "      <td>101.0</td>\n",
       "      <td>108.0</td>\n",
       "      <td>1.0</td>\n",
       "      <td>75.0</td>\n",
       "      <td>77.000000</td>\n",
       "      <td>73.000000</td>\n",
       "      <td>4.518165</td>\n",
       "      <td>2.19538</td>\n",
       "      <td>2.752714</td>\n",
       "      <td>7.0</td>\n",
       "      <td>8.0</td>\n",
       "      <td>0.0</td>\n",
       "    </tr>\n",
       "    <tr>\n",
       "      <th>3</th>\n",
       "      <td>4.0</td>\n",
       "      <td>1.0</td>\n",
       "      <td>28394928.0</td>\n",
       "      <td>0.0</td>\n",
       "      <td>0.0</td>\n",
       "      <td>128.0</td>\n",
       "      <td>46.0</td>\n",
       "      <td>25.0</td>\n",
       "      <td>20.0</td>\n",
       "      <td>18.0</td>\n",
       "      <td>16.000000</td>\n",
       "      <td>19.000000</td>\n",
       "      <td>4.518165</td>\n",
       "      <td>2.19538</td>\n",
       "      <td>2.752714</td>\n",
       "      <td>1.0</td>\n",
       "      <td>3.0</td>\n",
       "      <td>1.0</td>\n",
       "    </tr>\n",
       "    <tr>\n",
       "      <th>4</th>\n",
       "      <td>5.0</td>\n",
       "      <td>1.0</td>\n",
       "      <td>28394932.0</td>\n",
       "      <td>0.0</td>\n",
       "      <td>0.0</td>\n",
       "      <td>16.0</td>\n",
       "      <td>249.0</td>\n",
       "      <td>15.0</td>\n",
       "      <td>33.0</td>\n",
       "      <td>21.0</td>\n",
       "      <td>19.000000</td>\n",
       "      <td>11.000000</td>\n",
       "      <td>2.000000</td>\n",
       "      <td>3.00000</td>\n",
       "      <td>3.000000</td>\n",
       "      <td>1.0</td>\n",
       "      <td>1.0</td>\n",
       "      <td>0.0</td>\n",
       "    </tr>\n",
       "  </tbody>\n",
       "</table>\n",
       "</div>"
      ],
      "text/plain": [
       "   Unnamed: 0  date_mday          id  date_hour  in_queue  user_index  \\\n",
       "0         1.0        1.0  28394922.0        0.0       0.0       159.0   \n",
       "1         2.0        1.0  28394923.0        0.0       0.0       128.0   \n",
       "2         3.0        1.0  28394926.0        0.0       0.0       210.0   \n",
       "3         4.0        1.0  28394928.0        0.0       0.0       128.0   \n",
       "4         5.0        1.0  28394932.0        0.0       0.0        16.0   \n",
       "\n",
       "   view_user_build_count  project_index  department_index  \\\n",
       "0                   90.0          235.0               3.0   \n",
       "1                   45.0           25.0              20.0   \n",
       "2                  101.0          108.0               1.0   \n",
       "3                   46.0           25.0              20.0   \n",
       "4                  249.0           15.0              33.0   \n",
       "\n",
       "   path_first_dir_index  path_second_dir_index  path_third_dir_index  \\\n",
       "0                   1.0              47.100991             89.889714   \n",
       "1                  18.0              16.000000             19.000000   \n",
       "2                  75.0              77.000000             73.000000   \n",
       "3                  18.0              16.000000             19.000000   \n",
       "4                  21.0              19.000000             11.000000   \n",
       "\n",
       "   path_fourth_dir_index  path_fifth_dir_index  path_sixth_dir_index  \\\n",
       "0               4.518165               2.19538              2.752714   \n",
       "1               4.518165               2.19538              2.752714   \n",
       "2               4.518165               2.19538              2.752714   \n",
       "3               4.518165               2.19538              2.752714   \n",
       "4               2.000000               3.00000              3.000000   \n",
       "\n",
       "   building_block_count  component_count  build_exit_code  \n",
       "0                   1.0              2.0              1.0  \n",
       "1                   1.0              3.0              0.0  \n",
       "2                   7.0              8.0              0.0  \n",
       "3                   1.0              3.0              1.0  \n",
       "4                   1.0              1.0              0.0  "
      ]
     },
     "execution_count": 87,
     "metadata": {},
     "output_type": "execute_result"
    }
   ],
   "source": [
    "from sklearn.preprocessing import Imputer\n",
    "my_imputer = Imputer()\n",
    "imputed_numeric_values = my_imputer.fit_transform(numeric_values)\n",
    "\n",
    "imputed_numeric_values = pd.DataFrame(data=imputed_numeric_values, columns=numeric_values.columns)\n",
    "imputed_numeric_values.head()"
   ]
  },
  {
   "cell_type": "code",
   "execution_count": null,
   "metadata": {},
   "outputs": [],
   "source": [
    "# TODOs:\n",
    "# - remove exit codes != 0\n",
    "# - generate dummies\n",
    "# - "
   ]
  },
  {
   "cell_type": "code",
   "execution_count": 88,
   "metadata": {},
   "outputs": [
    {
     "name": "stdout",
     "output_type": "stream",
     "text": [
      "[-0.61388693 -0.64165391 -0.59945378]\n",
      "Mean Absolute Error 0.618332\n"
     ]
    }
   ],
   "source": [
    "from xgboost import XGBRegressor\n",
    "from sklearn.pipeline import make_pipeline\n",
    "\n",
    "model = XGBRegressor(n_estimators=50)\n",
    "my_pipeline = make_pipeline(my_imputer, model)\n",
    "from sklearn.model_selection import cross_val_score\n",
    "scores = cross_val_score(my_pipeline, imputed_numeric_values, Y, scoring='neg_mean_absolute_error')\n",
    "print(scores)\n",
    "print('Mean Absolute Error %2f' %(-1 * scores.mean()))\n"
   ]
  },
  {
   "cell_type": "code",
   "execution_count": 89,
   "metadata": {},
   "outputs": [
    {
     "data": {
      "text/plain": [
       "Pipeline(memory=None,\n",
       "     steps=[('imputer', Imputer(axis=0, copy=True, missing_values='NaN', strategy='mean', verbose=0)), ('xgbregressor', XGBRegressor(base_score=0.5, booster='gbtree', colsample_bylevel=1,\n",
       "       colsample_bytree=1, gamma=0, learning_rate=0.1, max_delta_step=0,\n",
       "       max_depth=3, min_child_weight=1, missing=None, n_estimators=50,\n",
       "       n_jobs=1, nthread=None, objective='reg:linear', random_state=0,\n",
       "       reg_alpha=0, reg_lambda=1, scale_pos_weight=1, seed=None,\n",
       "       silent=True, subsample=1))])"
      ]
     },
     "execution_count": 89,
     "metadata": {},
     "output_type": "execute_result"
    }
   ],
   "source": [
    "my_pipeline.fit(imputed_numeric_values, Y)"
   ]
  },
  {
   "cell_type": "code",
   "execution_count": 90,
   "metadata": {},
   "outputs": [],
   "source": [
    "test = pd.read_csv('test_august.csv')"
   ]
  },
  {
   "cell_type": "code",
   "execution_count": 91,
   "metadata": {},
   "outputs": [],
   "source": [
    "numeric_values_test = test.select_dtypes(exclude=['object'])\n",
    "test_transform = my_imputer.transform(numeric_values_test)\n"
   ]
  },
  {
   "cell_type": "code",
   "execution_count": 92,
   "metadata": {},
   "outputs": [],
   "source": [
    "duration_predictions = my_pipeline.predict(test_transform)"
   ]
  },
  {
   "cell_type": "code",
   "execution_count": 93,
   "metadata": {},
   "outputs": [
    {
     "data": {
      "text/plain": [
       "3.4479721975898863"
      ]
     },
     "execution_count": 93,
     "metadata": {},
     "output_type": "execute_result"
    }
   ],
   "source": [
    "Y.mean()"
   ]
  },
  {
   "cell_type": "code",
   "execution_count": 94,
   "metadata": {},
   "outputs": [
    {
     "data": {
      "text/plain": [
       "3.478897"
      ]
     },
     "execution_count": 94,
     "metadata": {},
     "output_type": "execute_result"
    }
   ],
   "source": [
    "import numpy as np\n",
    "np.mean(duration_predictions)"
   ]
  },
  {
   "cell_type": "code",
   "execution_count": 95,
   "metadata": {},
   "outputs": [],
   "source": [
    "duration_predictions_exp = np.exp(duration_predictions - .1)"
   ]
  },
  {
   "cell_type": "code",
   "execution_count": 96,
   "metadata": {},
   "outputs": [],
   "source": [
    "my_submission = pd.DataFrame({'id': test.id, 'build_duration': duration_predictions_exp})\n",
    "\n",
    "my_submission.to_csv('predictions.csv', sep=';', columns=['id', 'build_duration'], index=False)\n"
   ]
  },
  {
   "cell_type": "code",
   "execution_count": 110,
   "metadata": {},
   "outputs": [
    {
     "data": {
      "text/plain": [
       "array([0.01449275, 0.00869565, 0.        , 0.04637681, 0.        ,\n",
       "       0.12173913, 0.06376812, 0.02028986, 0.04927536, 0.13623188,\n",
       "       0.06376812, 0.02898551, 0.07826087, 0.01449275, 0.12173913,\n",
       "       0.02318841, 0.11884058, 0.08985507], dtype=float32)"
      ]
     },
     "execution_count": 110,
     "metadata": {},
     "output_type": "execute_result"
    }
   ],
   "source": [
    "model.feature_importances_\n"
   ]
  },
  {
   "cell_type": "code",
   "execution_count": 112,
   "metadata": {},
   "outputs": [
    {
     "data": {
      "text/plain": [
       "Index(['Unnamed: 0', 'date_mday', 'date_month', 'build_scope', 'id',\n",
       "       'viewname', 'modified_datetime', 'date_wday', 'date_hour', 'in_queue',\n",
       "       'user_index', 'view_user_build_count', 'project_index',\n",
       "       'department_index', 'path', 'path_first_dir_index',\n",
       "       'path_second_dir_index', 'path_third_dir_index',\n",
       "       'path_fourth_dir_index', 'path_fifth_dir_index', 'path_sixth_dir_index',\n",
       "       'building_block_count', 'component_count', 'build_exit_code',\n",
       "       'building_block', 'component'],\n",
       "      dtype='object')"
      ]
     },
     "execution_count": 112,
     "metadata": {},
     "output_type": "execute_result"
    }
   ],
   "source": [
    "X.columns"
   ]
  },
  {
   "cell_type": "code",
   "execution_count": 113,
   "metadata": {},
   "outputs": [],
   "source": [
    "from matplotlib import pyplot"
   ]
  },
  {
   "cell_type": "code",
   "execution_count": 142,
   "metadata": {},
   "outputs": [
    {
     "data": {
      "text/plain": [
       "<BarContainer object of 18 artists>"
      ]
     },
     "execution_count": 142,
     "metadata": {},
     "output_type": "execute_result"
    },
    {
     "data": {
      "image/png": "[encoded data removed]",
      "text/plain": [
       "<Figure size 432x288 with 1 Axes>"
      ]
     },
     "metadata": {},
     "output_type": "display_data"
    }
   ],
   "source": [
    "pyplot.xticks(rotation=90)\n",
    "pyplot.bar(imputed_numeric_values.columns, model.feature_importances_)\n"
   ]
  }
 ],
 "metadata": {
  "kernelspec": {
   "display_name": "Python 3",
   "language": "python",
   "name": "python3"
  },
  "language_info": {
   "codemirror_mode": {
    "name": "ipython",
    "version": 3
   },
   "file_extension": ".py",
   "mimetype": "text/x-python",
   "name": "python",
   "nbconvert_exporter": "python",
   "pygments_lexer": "ipython3",
   "version": "3.6.5"
  }
 },
 "nbformat": 4,
 "nbformat_minor": 2
}
